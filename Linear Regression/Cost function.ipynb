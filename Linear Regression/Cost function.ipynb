{
 "cells": [
  {
   "cell_type": "code",
   "execution_count": 1,
   "id": "ceac605f",
   "metadata": {},
   "outputs": [],
   "source": [
    "import numpy as np\n",
    "import matplotlib.pyplot as plt"
   ]
  },
  {
   "cell_type": "code",
   "execution_count": 3,
   "id": "fbd60ea8",
   "metadata": {},
   "outputs": [],
   "source": [
    "x_train = np.array([1.0, 2.0])\n",
    "y_train = np.array([300.0, 500.0])"
   ]
  },
  {
   "cell_type": "code",
   "execution_count": 4,
   "id": "bdf09c35",
   "metadata": {},
   "outputs": [],
   "source": [
    "def compute_cost(x, y, w, b):\n",
    "    m = x.shape[0]\n",
    "    cost_sum = 0\n",
    "    for i in range(m):\n",
    "        f_wb = w*x[i]+b\n",
    "        cost = (f_wb-y[i]) ** 2\n",
    "        cost_sum += cost\n",
    "    total_cost = (1/(2*m)) * cost_sum\n",
    "    \n",
    "    return total_cost"
   ]
  },
  {
   "cell_type": "code",
   "execution_count": 44,
   "id": "f859f32d",
   "metadata": {},
   "outputs": [],
   "source": [
    "x_train = np.array([1.0, 1.7, 2.0, 2.5, 3.0, 3.2])\n",
    "y_train = np.array([250, 300, 480,  430,   630, 730,])\n",
    "w, b = 200, 100"
   ]
  },
  {
   "cell_type": "code",
   "execution_count": 45,
   "id": "e91cea36",
   "metadata": {},
   "outputs": [
    {
     "name": "stdout",
     "output_type": "stream",
     "text": [
      "cost:38.33333333333333\n"
     ]
    }
   ],
   "source": [
    "cost = compute_cost(x_train, y_train, w, b)\n",
    "print(f\"cost:{cost}\")"
   ]
  },
  {
   "cell_type": "code",
   "execution_count": 46,
   "id": "35a25445",
   "metadata": {},
   "outputs": [],
   "source": [
    "def compute_model_output(x, w, b):\n",
    "    m = x.shape[0]\n",
    "    f_wb = np.zeros(m)\n",
    "    \n",
    "    for i in range(m):\n",
    "        f_wb[i] = w*x[i]+b\n",
    "    return f_wb"
   ]
  },
  {
   "cell_type": "code",
   "execution_count": 47,
   "id": "4fd7f1b3",
   "metadata": {},
   "outputs": [],
   "source": [
    "tmp_f_wb = compute_model_output(x_train, w, b)"
   ]
  },
  {
   "cell_type": "code",
   "execution_count": 48,
   "id": "02ab59ee",
   "metadata": {},
   "outputs": [
    {
     "data": {
      "image/png": "[encoded data removed]",
      "text/plain": [
       "<Figure size 432x288 with 1 Axes>"
      ]
     },
     "metadata": {
      "needs_background": "light"
     },
     "output_type": "display_data"
    }
   ],
   "source": [
    "plt.plot(x_train, tmp_f_wb, c='b', label='model prediction')\n",
    "plt.scatter(x_train, y_train, marker='*', c='r', label='Actual Values')\n",
    "plt.title(\"Housing Prices\")\n",
    "plt.ylabel('Price (in 1000s of dollars)')\n",
    "plt.xlabel('Size (1000 sqft)')\n",
    "plt.legend()\n",
    "plt.show()"
   ]
  }
 ],
 "metadata": {
  "kernelspec": {
   "display_name": "Python 3",
   "language": "python",
   "name": "python3"
  },
  "language_info": {
   "codemirror_mode": {
    "name": "ipython",
    "version": 3
   },
   "file_extension": ".py",
   "mimetype": "text/x-python",
   "name": "python",
   "nbconvert_exporter": "python",
   "pygments_lexer": "ipython3",
   "version": "3.8.8"
  }
 },
 "nbformat": 4,
 "nbformat_minor": 5
}
