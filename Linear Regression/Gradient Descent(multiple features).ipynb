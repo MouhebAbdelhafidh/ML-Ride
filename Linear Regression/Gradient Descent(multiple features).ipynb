{
 "cells": [
  {
   "cell_type": "code",
   "execution_count": 1,
   "id": "2c84a044",
   "metadata": {},
   "outputs": [],
   "source": [
    "import numpy as np\n",
    "import matplotlib.pyplot as plt\n",
    "import math, copy"
   ]
  },
  {
   "cell_type": "code",
   "execution_count": 2,
   "id": "9418ae11",
   "metadata": {},
   "outputs": [
    {
     "name": "stdout",
     "output_type": "stream",
     "text": [
      "x_train shape: (10, 4)\n",
      " [[2104    5    1   45]\n",
      " [1416    3    2   40]\n",
      " [ 852    2    1   35]\n",
      " [1940    4    1   30]\n",
      " [1550    3    2   20]\n",
      " [1427    3    2   25]\n",
      " [1380    3    2   40]\n",
      " [1750    4    2   30]\n",
      " [1650    3    2   18]\n",
      " [1200    2    1   22]] \n",
      " y_train shape: (10,)\n",
      " [460 232 178 315 250 240 275 310 290 220]\n"
     ]
    }
   ],
   "source": [
    "X_train = np.array([\n",
    "    [2104, 5, 1, 45],\n",
    "    [1416, 3, 2, 40],\n",
    "    [852, 2, 1, 35],\n",
    "    [1940, 4, 1, 30],\n",
    "    [1550, 3, 2, 20],\n",
    "    [1427, 3, 2, 25],\n",
    "    [1380, 3, 2, 40],\n",
    "    [1750, 4, 2, 30],\n",
    "    [1650, 3, 2, 18],\n",
    "    [1200, 2, 1, 22]\n",
    "])\n",
    "y_train = np.array([460, 232, 178, 315, 250, 240, 275, 310, 290, 220])\n",
    "print(f\"x_train shape: {X_train.shape}\\n {X_train} \\n y_train shape: {y_train.shape}\\n {y_train}\")"
   ]
  },
  {
   "cell_type": "code",
   "execution_count": 3,
   "id": "e6b5d28a",
   "metadata": {},
   "outputs": [
    {
     "name": "stdout",
     "output_type": "stream",
     "text": [
      "w_init shape: (4,),\n",
      " [  0.39133535  18.75376741 -53.36032453 -26.42131618]\n",
      " b_init type: <class 'float'>\n"
     ]
    }
   ],
   "source": [
    "b_init = 785.1811367994083\n",
    "w_init = np.array([ 0.39133535, 18.75376741, -53.36032453, -26.42131618])\n",
    "print(f\"w_init shape: {w_init.shape},\\n {w_init}\\n b_init type: {type(b_init)}\")"
   ]
  },
  {
   "cell_type": "code",
   "execution_count": 4,
   "id": "a565b10d",
   "metadata": {},
   "outputs": [],
   "source": [
    "def predict(x, w, b):\n",
    "    return np.dot(w, x)+b"
   ]
  },
  {
   "cell_type": "code",
   "execution_count": 5,
   "id": "89c4e27f",
   "metadata": {},
   "outputs": [
    {
     "name": "stdout",
     "output_type": "stream",
     "text": [
      "prediction: 459.9999976194082\n"
     ]
    }
   ],
   "source": [
    "f_wb = predict(X_train[0], w_init, b_init)\n",
    "print(f\"prediction: {f_wb}\")"
   ]
  },
  {
   "cell_type": "code",
   "execution_count": 6,
   "id": "3fbdf28c",
   "metadata": {},
   "outputs": [],
   "source": [
    "def compute_cost(x, y, w, b):\n",
    "    m = x.shape[0]\n",
    "    cost = 0\n",
    "    \n",
    "    for i in range(m):\n",
    "        f_wb_i = predict(x[i], w, b)\n",
    "        cost+=(f_wb_i-y[i])**2\n",
    "    return cost/(2*m)"
   ]
  },
  {
   "cell_type": "code",
   "execution_count": 7,
   "id": "b62ffc71",
   "metadata": {},
   "outputs": [
    {
     "name": "stdout",
     "output_type": "stream",
     "text": [
      "Cost at optimal w : 68330.15347092952\n"
     ]
    }
   ],
   "source": [
    "cost = compute_cost(X_train, y_train, w_init, b_init)\n",
    "print(f'Cost at optimal w : {cost}')"
   ]
  },
  {
   "cell_type": "code",
   "execution_count": 8,
   "id": "572a096d",
   "metadata": {},
   "outputs": [],
   "source": [
    "def compute_gradient(x, y, w, b):\n",
    "    m, n = x.shape\n",
    "    dj_dw, db_dw = np.zeros((n,)), 0\n",
    "    \n",
    "    for i in range(m):\n",
    "        err = (np.dot(x[i], w)+b)-y[i]\n",
    "        for j in range(n):\n",
    "            dj_dw+=err*x[i, j]\n",
    "        db_dw+=err\n",
    "    dj_dw/=m\n",
    "    db_dw/=m\n",
    "    return dj_dw, db_dw"
   ]
  },
  {
   "cell_type": "code",
   "execution_count": 9,
   "id": "8fd2f3f1",
   "metadata": {},
   "outputs": [
    {
     "name": "stdout",
     "output_type": "stream",
     "text": [
      "dj_db at initial w,b: 274.49647568840817\n",
      "dj_dw at initial w,b: \n",
      " [444680.7625248 444680.7625248 444680.7625248 444680.7625248]\n"
     ]
    }
   ],
   "source": [
    "tmp_dj_dw, tmp_dj_db = compute_gradient(X_train, y_train, w_init, b_init)\n",
    "print(f'dj_db at initial w,b: {tmp_dj_db}')\n",
    "print(f'dj_dw at initial w,b: \\n {tmp_dj_dw}')"
   ]
  },
  {
   "cell_type": "code",
   "execution_count": 10,
   "id": "59fb4145",
   "metadata": {},
   "outputs": [],
   "source": [
    "def generate_polynomial_features(X, degree):\n",
    "    m, n = X.shape\n",
    "    X_poly = X\n",
    "    for d in range(2, degree + 1):\n",
    "        X_d = np.power(X, d)  \n",
    "        X_poly = np.hstack((X_poly, X_d))  \n",
    "    return X_poly"
   ]
  },
  {
   "cell_type": "code",
   "execution_count": 11,
   "id": "4e3564a9",
   "metadata": {},
   "outputs": [],
   "source": [
    "def zscore_normlize_features(X):\n",
    "    mu     = np.mean(X, axis=0)                 # mu will have shape (n,)\n",
    "    # find the standard deviation of each column/feature\n",
    "    sigma  = np.std(X, axis=0)                  # sigma will have shape (n,)\n",
    "    # element-wise, subtract mu for that column from each example, divide by std for that column\n",
    "    X_norm = (X - mu) / sigma      \n",
    "\n",
    "    return (X_norm, mu, sigma)"
   ]
  },
  {
   "cell_type": "code",
   "execution_count": 12,
   "id": "f8a19c38",
   "metadata": {},
   "outputs": [],
   "source": [
    "\n",
    "def gradient_descent(X, y, w_in, b_in, cost_function, gradient_function, alpha, num_iters):\n",
    "    J_history = []\n",
    "    w = copy.deepcopy(w_in)\n",
    "    b = b_in\n",
    "    \n",
    "    for i in range(num_iters):\n",
    "        dj_dw, dj_db = gradient_function(X, y, w, b)\n",
    "        w = w - alpha * dj_dw\n",
    "        b = b - alpha * dj_db\n",
    "\n",
    "        # Save cost every iteration\n",
    "        cost = cost_function(X, y, w, b)  # Ensure this returns a scalar value\n",
    "        if i < 100000:\n",
    "            J_history.append(cost)\n",
    "        \n",
    "        # Print the cost at intervals\n",
    "        if i % math.ceil(num_iters / 10) == 0:\n",
    "            print(f\"Iteration {i:4d}: Cost {cost:8.2f}\")\n",
    "    \n",
    "    return w, b, J_history\n"
   ]
  },
  {
   "cell_type": "code",
   "execution_count": 13,
   "id": "106ed6ec",
   "metadata": {},
   "outputs": [
    {
     "name": "stdout",
     "output_type": "stream",
     "text": [
      "Iteration    0: Cost 41032.83\n",
      "Iteration 2000000: Cost  8578.22\n",
      "Iteration 4000000: Cost  2396.39\n",
      "Iteration 6000000: Cost  1148.30\n",
      "Iteration 8000000: Cost   896.32\n",
      "Iteration 10000000: Cost   845.44\n",
      "Iteration 12000000: Cost   835.17\n",
      "Iteration 14000000: Cost   833.09\n",
      "Iteration 16000000: Cost   832.68\n",
      "Iteration 18000000: Cost   832.59\n",
      "b,w found by gradient descent: 276.91,[12.01680347 12.01680347 12.01680347 12.01680347 12.01680347 12.01680347\n",
      " 12.01680347 12.01680347] \n",
      "prediction: 385.1189165138389, target value: 2.505016702411067\n",
      "prediction: 306.5230509814404, target value: -0.6159877137076394\n",
      "prediction: 184.1820879518645, target value: -1.3551729701568067\n",
      "prediction: 295.1475055050694, target value: 0.5201674026864511\n",
      "prediction: 262.57420117122746, target value: -0.36959262822458366\n",
      "prediction: 265.70311255827045, target value: -0.5064787868262813\n",
      "prediction: 304.0942997264384, target value: -0.02737723172033953\n",
      "prediction: 329.41829365667155, target value: 0.45172432338560226\n",
      "prediction: 265.418904201061, target value: 0.17795200618220694\n",
      "prediction: 170.89039736965458, target value: -0.7802511040296766\n"
     ]
    }
   ],
   "source": [
    "\n",
    "iterations = 19999999\n",
    "alpha = 4.0e-7\n",
    "degree = 2\n",
    "# X_norm, X_mu, X_sigma = zscore_normlize_features(X_train)\n",
    "# X_train[0] = X_norm[0]\n",
    "X_poly = generate_polynomial_features(X_train, degree)\n",
    "\n",
    "X_norm, X_mu, X_sigma = zscore_normlize_features(X_poly)\n",
    "y_norm, y_mu, y_sigma = zscore_normlize_features(y_train)\n",
    "initial_w = np.zeros(X_norm.shape[1])\n",
    "initial_b = 0.\n",
    "w_final, b_final, J_hist = gradient_descent(X_norm, y_train, initial_w, initial_b,\n",
    "                                                    compute_cost, compute_gradient, \n",
    "                                                    alpha, iterations)\n",
    "print(f\"b,w found by gradient descent: {b_final:0.2f},{w_final} \")\n",
    "m,_ = X_norm.shape\n",
    "for i in range(m):\n",
    "    print(f\"prediction: {predict(X_norm[i], w_final, b_final)}, target value: {y_norm[i]}\")"
   ]
  },
  {
   "cell_type": "code",
   "execution_count": 14,
   "id": "2a2824fa",
   "metadata": {},
   "outputs": [
    {
     "data": {
      "image/png": "[encoded data removed]",
      "text/plain": [
       "<Figure size 864x288 with 2 Axes>"
      ]
     },
     "metadata": {
      "needs_background": "light"
     },
     "output_type": "display_data"
    }
   ],
   "source": [
    "# plot cost versus iteration  \n",
    "fig, (ax1, ax2) = plt.subplots(1, 2, constrained_layout=True, figsize=(12, 4))\n",
    "ax1.plot(J_hist)\n",
    "ax2.plot(100 + np.arange(len(J_hist[100:])), J_hist[100:])\n",
    "ax1.set_title(\"Cost vs. iteration\");  ax2.set_title(\"Cost vs. iteration (tail)\")\n",
    "ax1.set_ylabel('Cost')             ;  ax2.set_ylabel('Cost') \n",
    "ax1.set_xlabel('iteration step')   ;  ax2.set_xlabel('iteration step') \n",
    "plt.show()"
   ]
  },
  {
   "cell_type": "code",
   "execution_count": 15,
   "id": "7e0d4bc0",
   "metadata": {},
   "outputs": [
    {
     "data": {
      "image/png": "[encoded data removed]",
      "text/plain": [
       "<Figure size 432x288 with 1 Axes>"
      ]
     },
     "metadata": {
      "needs_background": "light"
     },
     "output_type": "display_data"
    }
   ],
   "source": [
    "tmp_f_wb = [predict(X_norm[i], w_final, b_final) for i in range(len(X_norm))]\n",
    "\n",
    "\n",
    "plt.plot(range(len(X_norm)), tmp_f_wb, c='b', label='Model Prediction') \n",
    "plt.scatter(range(len(X_norm)), y_train, marker='*', c='r', label='Actual Values')\n",
    "\n",
    "plt.title(\"Housing Prices\")\n",
    "plt.ylabel('Price (in 1000s of dollars)')\n",
    "plt.xlabel('House Number')  \n",
    "plt.legend()\n",
    "\n",
    "\n",
    "plt.show()\n"
   ]
  },
  {
   "cell_type": "code",
   "execution_count": null,
   "id": "3a4a9252",
   "metadata": {},
   "outputs": [],
   "source": []
  }
 ],
 "metadata": {
  "kernelspec": {
   "display_name": "Python 3",
   "language": "python",
   "name": "python3"
  },
  "language_info": {
   "codemirror_mode": {
    "name": "ipython",
    "version": 3
   },
   "file_extension": ".py",
   "mimetype": "text/x-python",
   "name": "python",
   "nbconvert_exporter": "python",
   "pygments_lexer": "ipython3",
   "version": "3.8.8"
  }
 },
 "nbformat": 4,
 "nbformat_minor": 5
}
