{
 "cells": [
  {
   "cell_type": "code",
   "execution_count": 1,
   "id": "0342e07e",
   "metadata": {},
   "outputs": [],
   "source": [
    "import numpy as np\n",
    "import matplotlib.pyplot as plt"
   ]
  },
  {
   "cell_type": "code",
   "execution_count": 11,
   "id": "0aa16f76",
   "metadata": {},
   "outputs": [
    {
     "name": "stdout",
     "output_type": "stream",
     "text": [
      "x_train shape: (10, 4)\n",
      " [[2104    5    1   45]\n",
      " [1416    3    2   40]\n",
      " [ 852    2    1   35]\n",
      " [1940    4    1   30]\n",
      " [1550    3    2   20]\n",
      " [1427    3    2   25]\n",
      " [1380    3    2   40]\n",
      " [1750    4    2   30]\n",
      " [1650    3    2   18]\n",
      " [1200    2    1   22]] \n",
      " y_train shape: (10,)\n",
      " [460 232 178 315 250 240 275 310 290 220]\n"
     ]
    }
   ],
   "source": [
    "X_train = np.array([\n",
    "    [2104, 5, 1, 45],\n",
    "    [1416, 3, 2, 40],\n",
    "    [852, 2, 1, 35],\n",
    "    [1940, 4, 1, 30],\n",
    "    [1550, 3, 2, 20],\n",
    "    [1427, 3, 2, 25],\n",
    "    [1380, 3, 2, 40],\n",
    "    [1750, 4, 2, 30],\n",
    "    [1650, 3, 2, 18],\n",
    "    [1200, 2, 1, 22]\n",
    "])\n",
    "y_train = np.array([460, 232, 178, 315, 250, 240, 275, 310, 290, 220])\n",
    "print(f\"x_train shape: {X_train.shape}\\n {X_train} \\n y_train shape: {y_train.shape}\\n {y_train}\")"
   ]
  },
  {
   "cell_type": "code",
   "execution_count": 16,
   "id": "c879b907",
   "metadata": {},
   "outputs": [
    {
     "data": {
      "text/plain": [
       "LinearRegression()"
      ]
     },
     "execution_count": 16,
     "metadata": {},
     "output_type": "execute_result"
    }
   ],
   "source": [
    "linear_model = LinearRegression()\n",
    "linear_model.fit(X_train.reshape(-1, 4), y_train)"
   ]
  },
  {
   "cell_type": "code",
   "execution_count": 17,
   "id": "69e5d77d",
   "metadata": {},
   "outputs": [
    {
     "name": "stdout",
     "output_type": "stream",
     "text": [
      "[  0.10480783  34.73078687 -20.48946023   1.00949089] \n",
      "7.824072649953507\n"
     ]
    }
   ],
   "source": [
    "w = linear_model.coef_\n",
    "b = linear_model.intercept_\n",
    "print(f\"{w} \\n{b}\")"
   ]
  },
  {
   "cell_type": "code",
   "execution_count": 18,
   "id": "8a4e0b8f",
   "metadata": {},
   "outputs": [],
   "source": [
    "y_pred = linear_model.predict(X_train.reshape(-1, 4))"
   ]
  },
  {
   "cell_type": "code",
   "execution_count": 27,
   "id": "3f3634d9",
   "metadata": {},
   "outputs": [
    {
     "data": {
      "image/png": "[encoded data removed]",
      "text/plain": [
       "<Figure size 432x288 with 1 Axes>"
      ]
     },
     "metadata": {
      "needs_background": "light"
     },
     "output_type": "display_data"
    }
   ],
   "source": [
    "plt.scatter(range(len(y_train)), y_train, c='r', label='Actual values', marker='*')\n",
    "plt.plot(range(len(y_train)), y_pred, c='b', label='Prediction')\n",
    "plt.title('House pricings')\n",
    "plt.xlabel('house nbr')\n",
    "plt.ylabel('price (in 1000$)')\n",
    "plt.legend()\n",
    "plt.show()"
   ]
  },
  {
   "cell_type": "code",
   "execution_count": null,
   "id": "81f1f382",
   "metadata": {},
   "outputs": [],
   "source": []
  }
 ],
 "metadata": {
  "kernelspec": {
   "display_name": "Python 3",
   "language": "python",
   "name": "python3"
  },
  "language_info": {
   "codemirror_mode": {
    "name": "ipython",
    "version": 3
   },
   "file_extension": ".py",
   "mimetype": "text/x-python",
   "name": "python",
   "nbconvert_exporter": "python",
   "pygments_lexer": "ipython3",
   "version": "3.8.8"
  }
 },
 "nbformat": 4,
 "nbformat_minor": 5
}
