{
 "cells": [
  {
   "cell_type": "code",
   "execution_count": 1,
   "id": "9218a2e9",
   "metadata": {},
   "outputs": [],
   "source": [
    "import math, copy\n",
    "import numpy as np\n",
    "import matplotlib.pyplot as plt"
   ]
  },
  {
   "cell_type": "code",
   "execution_count": 5,
   "id": "6467cf0c",
   "metadata": {},
   "outputs": [
    {
     "name": "stdout",
     "output_type": "stream",
     "text": [
      "x_train shape: (10, 9) \n",
      "y_train shape: (10,) \n"
     ]
    }
   ],
   "source": [
    "x_train = np.array([\n",
    "    [2, 75, 80, 1, 5, 2, 1, 1, 70000],  # Sample student data\n",
    "    [3, 80, 90, 1, 3, 3, 0, 2, 80000],\n",
    "    [4, 85, 95, 0, 2, 4, 1, 1, 75000],\n",
    "    [1, 65, 70, 1, 4, 1, 0, 0, 50000],\n",
    "    [5, 90, 100, 1, 6, 5, 1, 3, 100000],\n",
    "    [2.5, 78, 85, 0, 5, 2, 1, 1, 60000],\n",
    "    [3.5, 82, 92, 1, 4, 3, 0, 2, 70000],\n",
    "    [4.5, 88, 96, 1, 1, 4, 1, 1, 90000],\n",
    "    [1.5, 70, 75, 1, 2, 2, 0, 0, 55000],\n",
    "    [3.0, 80, 88, 1, 3, 3, 1, 2, 72000]\n",
    "])\n",
    "\n",
    "# Target values: Exam Scores\n",
    "y_train = np.array([65, 70, 80, 55, 90, 68, 75, 85, 58, 72])\n",
    "\n",
    "print(f\"x_train shape: {x_train.shape} \\ny_train shape: {y_train.shape} \")"
   ]
  },
  {
   "cell_type": "code",
   "execution_count": 8,
   "id": "ea81e293",
   "metadata": {},
   "outputs": [
    {
     "name": "stdout",
     "output_type": "stream",
     "text": [
      "w_init shape: (9,) \b_init type: <class 'int'> \n"
     ]
    }
   ],
   "source": [
    "b_init = 0\n",
    "w_init = np.zeros(x_train.shape[1])\n",
    "print(f\"w_init shape: {w_init.shape} \\b_init type: {type(b_init)} \")"
   ]
  },
  {
   "cell_type": "code",
   "execution_count": 9,
   "id": "9351e1fe",
   "metadata": {},
   "outputs": [],
   "source": [
    "def predict(x, w, b):\n",
    "    return np.dot(x, w)+b"
   ]
  },
  {
   "cell_type": "code",
   "execution_count": 11,
   "id": "ab334c2d",
   "metadata": {},
   "outputs": [],
   "source": [
    "def compute_cost(x, y, w, b):\n",
    "    m = x.shape[0]\n",
    "    cost = 0\n",
    "    for i in range(m):\n",
    "        f_wb = predict(x[i], w, b)\n",
    "        cost += (f_wb-y[i])**2\n",
    "    return cost/(2*m)"
   ]
  },
  {
   "cell_type": "code",
   "execution_count": 22,
   "id": "077be665",
   "metadata": {},
   "outputs": [],
   "source": [
    "def compute_gradient(x, y, w, b):\n",
    "    m, n = x.shape\n",
    "    dj_dw, dj_db = np.zeros((n,)), 0\n",
    "    \n",
    "    for i in range(m):\n",
    "        err = predict(x[i], w, b)-y[i]\n",
    "        for j in range(n):\n",
    "            dj_dw+=err*x[i, j]\n",
    "        dj_db+=err\n",
    "    dj_dw/=m\n",
    "    dj_db/=m\n",
    "    return dj_dw, dj_db"
   ]
  },
  {
   "cell_type": "code",
   "execution_count": 53,
   "id": "91c018d4",
   "metadata": {},
   "outputs": [],
   "source": [
    "def gradient_descent(x, y, w_in, b_in, alpha, num_iters):\n",
    "    w = copy.deepcopy(w_in)\n",
    "    b = 0\n",
    "    J_history = []\n",
    "    \n",
    "    for i in range(num_iters):\n",
    "        dj_dw, dj_db = compute_gradient(x, y, w, b)\n",
    "        w = w-alpha*dj_dw\n",
    "        b = b-alpha*dj_db\n",
    "    \n",
    "        if i < 100000:\n",
    "                J_history.append(cost)\n",
    "\n",
    "            # Print the cost at intervals\n",
    "        if i % math.ceil(num_iters / 10) == 0:\n",
    "            print(f\"Iteration {i:4d}: Cost {cost:8.2f}\")\n",
    "    \n",
    "    return w, b, J_history"
   ]
  },
  {
   "cell_type": "code",
   "execution_count": 54,
   "id": "6542bb42",
   "metadata": {},
   "outputs": [
    {
     "name": "stdout",
     "output_type": "stream",
     "text": [
      "Iteration    0: Cost  2633.60\n",
      "Iteration  100: Cost  2633.60\n",
      "Iteration  200: Cost  2633.60\n",
      "Iteration  300: Cost  2633.60\n",
      "Iteration  400: Cost  2633.60\n",
      "Iteration  500: Cost  2633.60\n",
      "Iteration  600: Cost  2633.60\n",
      "Iteration  700: Cost  2633.60\n",
      "Iteration  800: Cost  2633.60\n",
      "Iteration  900: Cost  2633.60\n",
      "b,w found by gradient descent: 0.00,[0.00097958 0.00097958 0.00097958 0.00097958 0.00097958 0.00097958\n",
      " 0.00097958 0.00097958 0.00097958] \n",
      "prediction: 68.73384043978106, target value: 65\n",
      "prediction: 78.54428425201381, target value: 70\n",
      "prediction: 73.65620490872459, target value: 80\n",
      "prediction: 49.11785069040906, target value: 55\n",
      "prediction: 98.16419230146057, target value: 90\n",
      "prediction: 58.945437065468965, target value: 68\n",
      "prediction: 68.75392172766433, target value: 75\n",
      "prediction: 88.35423827673718, target value: 85\n",
      "prediction: 54.025031746562824, target value: 58\n",
      "prediction: 70.70670452743325, target value: 72\n"
     ]
    }
   ],
   "source": [
    "x_test = np.array([\n",
    "    [2.0, 76, 78, 1, 4, 3, 1, 1, 65000],  # Student 1\n",
    "    [3.5, 85, 90, 0, 5, 4, 0, 2, 72000],  # Student 2\n",
    "    [4.0, 90, 95, 1, 3, 3, 1, 1, 80000],  # Student 3\n",
    "    [1.0, 60, 65, 1, 2, 2, 0, 0, 40000]   # Student 4\n",
    "])\n",
    "y_test = np.array([70, 78, 85, 50])\n",
    "\n",
    "initial_w = np.zeros_like(w_init)\n",
    "initial_b = 0.\n",
    "iterations = 1000\n",
    "alpha = 1.0e-10\n",
    "\n",
    "w_final, b_final, J_hist = gradient_descent(x_train, y_train, initial_w, initial_b, alpha, iterations)\n",
    "print(f\"b,w found by gradient descent: {b_final:0.2f},{w_final} \")\n",
    "m,_ = x_train.shape\n",
    "for i in range(m):\n",
    "    print(f\"prediction: {predict(x_train[i], w_final, b_final)}, target value: {y_train[i]}\")"
   ]
  },
  {
   "cell_type": "code",
   "execution_count": 59,
   "id": "42da4829",
   "metadata": {},
   "outputs": [
    {
     "data": {
      "image/png": "[encoded data removed]",
      "text/plain": [
       "<Figure size 864x288 with 2 Axes>"
      ]
     },
     "metadata": {
      "needs_background": "light"
     },
     "output_type": "display_data"
    }
   ],
   "source": [
    "# plot cost versus iteration  \n",
    "fig, (ax1, ax2) = plt.subplots(1, 2, constrained_layout=True, figsize=(12, 4))\n",
    "ax1.plot(J_hist)\n",
    "ax2.plot(100 + np.arange(len(J_hist[100:])), J_hist[100:])\n",
    "ax1.set_title(\"Cost vs. iteration\");  ax2.set_title(\"Cost vs. iteration (tail)\")\n",
    "ax1.set_ylabel('Cost')             ;  ax2.set_ylabel('Cost') \n",
    "ax1.set_xlabel('iteration step')   ;  ax2.set_xlabel('iteration step') \n",
    "plt.show()"
   ]
  },
  {
   "cell_type": "code",
   "execution_count": 60,
   "id": "65f6ed68",
   "metadata": {},
   "outputs": [
    {
     "data": {
      "image/png": "[encoded data removed]",
      "text/plain": [
       "<Figure size 432x288 with 1 Axes>"
      ]
     },
     "metadata": {
      "needs_background": "light"
     },
     "output_type": "display_data"
    }
   ],
   "source": [
    "tmp_f_wb = [predict(x_train[i], w_final, b_final) for i in range(len(x_train))]\n",
    "\n",
    "\n",
    "plt.plot(range(len(x_train)), tmp_f_wb, c='b', label='Model Prediction') \n",
    "plt.scatter(range(len(x_train)), y_train, marker='*', c='r', label='Actual Values')\n",
    "\n",
    "plt.title(\"Students Grades\")\n",
    "plt.ylabel('Grade/100')\n",
    "plt.xlabel('Student Number')  \n",
    "plt.legend()\n",
    "\n",
    "plt.show()"
   ]
  },
  {
   "cell_type": "markdown",
   "id": "fd242c27",
   "metadata": {},
   "source": [
    "# Using Scikit-Learn"
   ]
  },
  {
   "cell_type": "code",
   "execution_count": 90,
   "id": "ab71f5d9",
   "metadata": {},
   "outputs": [],
   "source": [
    "from sklearn.linear_model import LinearRegression\n",
    "from sklearn.linear_model import LinearRegression\n",
    "from sklearn.model_selection import train_test_split, cross_val_score\n",
    "import pandas as pd"
   ]
  },
  {
   "cell_type": "code",
   "execution_count": 96,
   "id": "47e9b06e",
   "metadata": {},
   "outputs": [
    {
     "data": {
      "text/html": [
       "<div>\n",
       "<style scoped>\n",
       "    .dataframe tbody tr th:only-of-type {\n",
       "        vertical-align: middle;\n",
       "    }\n",
       "\n",
       "    .dataframe tbody tr th {\n",
       "        vertical-align: top;\n",
       "    }\n",
       "\n",
       "    .dataframe thead th {\n",
       "        text-align: right;\n",
       "    }\n",
       "</style>\n",
       "<table border=\"1\" class=\"dataframe\">\n",
       "  <thead>\n",
       "    <tr style=\"text-align: right;\">\n",
       "      <th></th>\n",
       "      <th>GPA</th>\n",
       "      <th>Exam Score 1</th>\n",
       "      <th>Exam Score 2</th>\n",
       "      <th>Gender</th>\n",
       "      <th>Number of Extracurricular Activities</th>\n",
       "      <th>Study Hours per Day</th>\n",
       "      <th>is in a Club</th>\n",
       "      <th>Has a Scholarship</th>\n",
       "      <th>Annual Family Income</th>\n",
       "      <th>Grade</th>\n",
       "    </tr>\n",
       "  </thead>\n",
       "  <tbody>\n",
       "    <tr>\n",
       "      <th>0</th>\n",
       "      <td>2.0</td>\n",
       "      <td>75.0</td>\n",
       "      <td>80.0</td>\n",
       "      <td>1.0</td>\n",
       "      <td>5.0</td>\n",
       "      <td>2.0</td>\n",
       "      <td>1.0</td>\n",
       "      <td>1.0</td>\n",
       "      <td>70000.0</td>\n",
       "      <td>65</td>\n",
       "    </tr>\n",
       "    <tr>\n",
       "      <th>1</th>\n",
       "      <td>3.0</td>\n",
       "      <td>80.0</td>\n",
       "      <td>90.0</td>\n",
       "      <td>1.0</td>\n",
       "      <td>3.0</td>\n",
       "      <td>3.0</td>\n",
       "      <td>0.0</td>\n",
       "      <td>2.0</td>\n",
       "      <td>80000.0</td>\n",
       "      <td>70</td>\n",
       "    </tr>\n",
       "    <tr>\n",
       "      <th>2</th>\n",
       "      <td>4.0</td>\n",
       "      <td>85.0</td>\n",
       "      <td>95.0</td>\n",
       "      <td>0.0</td>\n",
       "      <td>2.0</td>\n",
       "      <td>4.0</td>\n",
       "      <td>1.0</td>\n",
       "      <td>1.0</td>\n",
       "      <td>75000.0</td>\n",
       "      <td>80</td>\n",
       "    </tr>\n",
       "    <tr>\n",
       "      <th>3</th>\n",
       "      <td>1.0</td>\n",
       "      <td>65.0</td>\n",
       "      <td>70.0</td>\n",
       "      <td>1.0</td>\n",
       "      <td>4.0</td>\n",
       "      <td>1.0</td>\n",
       "      <td>0.0</td>\n",
       "      <td>0.0</td>\n",
       "      <td>50000.0</td>\n",
       "      <td>55</td>\n",
       "    </tr>\n",
       "    <tr>\n",
       "      <th>4</th>\n",
       "      <td>5.0</td>\n",
       "      <td>90.0</td>\n",
       "      <td>100.0</td>\n",
       "      <td>1.0</td>\n",
       "      <td>6.0</td>\n",
       "      <td>5.0</td>\n",
       "      <td>1.0</td>\n",
       "      <td>3.0</td>\n",
       "      <td>100000.0</td>\n",
       "      <td>90</td>\n",
       "    </tr>\n",
       "    <tr>\n",
       "      <th>5</th>\n",
       "      <td>2.5</td>\n",
       "      <td>78.0</td>\n",
       "      <td>85.0</td>\n",
       "      <td>0.0</td>\n",
       "      <td>5.0</td>\n",
       "      <td>2.0</td>\n",
       "      <td>1.0</td>\n",
       "      <td>1.0</td>\n",
       "      <td>60000.0</td>\n",
       "      <td>68</td>\n",
       "    </tr>\n",
       "    <tr>\n",
       "      <th>6</th>\n",
       "      <td>3.5</td>\n",
       "      <td>82.0</td>\n",
       "      <td>92.0</td>\n",
       "      <td>1.0</td>\n",
       "      <td>4.0</td>\n",
       "      <td>3.0</td>\n",
       "      <td>0.0</td>\n",
       "      <td>2.0</td>\n",
       "      <td>70000.0</td>\n",
       "      <td>75</td>\n",
       "    </tr>\n",
       "    <tr>\n",
       "      <th>7</th>\n",
       "      <td>4.5</td>\n",
       "      <td>88.0</td>\n",
       "      <td>96.0</td>\n",
       "      <td>1.0</td>\n",
       "      <td>1.0</td>\n",
       "      <td>4.0</td>\n",
       "      <td>1.0</td>\n",
       "      <td>1.0</td>\n",
       "      <td>90000.0</td>\n",
       "      <td>85</td>\n",
       "    </tr>\n",
       "    <tr>\n",
       "      <th>8</th>\n",
       "      <td>1.5</td>\n",
       "      <td>70.0</td>\n",
       "      <td>75.0</td>\n",
       "      <td>1.0</td>\n",
       "      <td>2.0</td>\n",
       "      <td>2.0</td>\n",
       "      <td>0.0</td>\n",
       "      <td>0.0</td>\n",
       "      <td>55000.0</td>\n",
       "      <td>58</td>\n",
       "    </tr>\n",
       "    <tr>\n",
       "      <th>9</th>\n",
       "      <td>3.0</td>\n",
       "      <td>80.0</td>\n",
       "      <td>88.0</td>\n",
       "      <td>1.0</td>\n",
       "      <td>3.0</td>\n",
       "      <td>3.0</td>\n",
       "      <td>1.0</td>\n",
       "      <td>2.0</td>\n",
       "      <td>72000.0</td>\n",
       "      <td>72</td>\n",
       "    </tr>\n",
       "  </tbody>\n",
       "</table>\n",
       "</div>"
      ],
      "text/plain": [
       "   GPA  Exam Score 1  Exam Score 2  Gender  \\\n",
       "0  2.0          75.0          80.0     1.0   \n",
       "1  3.0          80.0          90.0     1.0   \n",
       "2  4.0          85.0          95.0     0.0   \n",
       "3  1.0          65.0          70.0     1.0   \n",
       "4  5.0          90.0         100.0     1.0   \n",
       "5  2.5          78.0          85.0     0.0   \n",
       "6  3.5          82.0          92.0     1.0   \n",
       "7  4.5          88.0          96.0     1.0   \n",
       "8  1.5          70.0          75.0     1.0   \n",
       "9  3.0          80.0          88.0     1.0   \n",
       "\n",
       "   Number of Extracurricular Activities  Study Hours per Day  is in a Club  \\\n",
       "0                                   5.0                  2.0           1.0   \n",
       "1                                   3.0                  3.0           0.0   \n",
       "2                                   2.0                  4.0           1.0   \n",
       "3                                   4.0                  1.0           0.0   \n",
       "4                                   6.0                  5.0           1.0   \n",
       "5                                   5.0                  2.0           1.0   \n",
       "6                                   4.0                  3.0           0.0   \n",
       "7                                   1.0                  4.0           1.0   \n",
       "8                                   2.0                  2.0           0.0   \n",
       "9                                   3.0                  3.0           1.0   \n",
       "\n",
       "   Has a Scholarship  Annual Family Income  Grade  \n",
       "0                1.0               70000.0     65  \n",
       "1                2.0               80000.0     70  \n",
       "2                1.0               75000.0     80  \n",
       "3                0.0               50000.0     55  \n",
       "4                3.0              100000.0     90  \n",
       "5                1.0               60000.0     68  \n",
       "6                2.0               70000.0     75  \n",
       "7                1.0               90000.0     85  \n",
       "8                0.0               55000.0     58  \n",
       "9                2.0               72000.0     72  "
      ]
     },
     "execution_count": 96,
     "metadata": {},
     "output_type": "execute_result"
    }
   ],
   "source": [
    "df = pd.DataFrame(x_train2, columns=['GPA', 'Exam Score 1', 'Exam Score 2', 'Gender', 'Number of Extracurricular Activities', 'Study Hours per Day', 'is in a Club', 'Has a Scholarship', 'Annual Family Income'])\n",
    "df['Grade'] = y_train2\n",
    "df"
   ]
  },
  {
   "cell_type": "code",
   "execution_count": 101,
   "id": "3ce13548",
   "metadata": {},
   "outputs": [],
   "source": [
    "x_train2, x_test,y_train2, y_test = train_test_split(x_train, y_train, test_size=0.2, random_state=42)"
   ]
  },
  {
   "cell_type": "markdown",
   "id": "ba30345e",
   "metadata": {},
   "source": [
    "# Using LinearRegression()"
   ]
  },
  {
   "cell_type": "code",
   "execution_count": 102,
   "id": "df6a3e02",
   "metadata": {},
   "outputs": [
    {
     "data": {
      "text/plain": [
       "LinearRegression()"
      ]
     },
     "execution_count": 102,
     "metadata": {},
     "output_type": "execute_result"
    }
   ],
   "source": [
    "linear_model = LinearRegression()\n",
    "linear_model.fit(x_train2, y_train2)"
   ]
  },
  {
   "cell_type": "code",
   "execution_count": 120,
   "id": "fc42ef63",
   "metadata": {},
   "outputs": [],
   "source": [
    "y_train_predict = linear_model.predict(x_train2)\n",
    "y_test_predict = linear_model.predict(x_test)"
   ]
  },
  {
   "cell_type": "code",
   "execution_count": 131,
   "id": "d89886e9",
   "metadata": {},
   "outputs": [
    {
     "data": {
      "image/png": "[encoded data removed]",
      "text/plain": [
       "<Figure size 432x288 with 1 Axes>"
      ]
     },
     "metadata": {
      "needs_background": "light"
     },
     "output_type": "display_data"
    }
   ],
   "source": [
    "test_indices = range(len(x_train2), len(x_train2) + len(x_test))  # Adjust index for test data\n",
    "plt.scatter(test_indices, y_test, color=\"orange\", label=\"Test Actual values\", marker='x')\n",
    "plt.plot(test_indices, y_test_predict, c='g', label='Test Predicted values')\n",
    "plt.title('Grades Predictions: Train vs Test')\n",
    "plt.xlabel('Student Index')\n",
    "plt.ylabel('Grade')\n",
    "plt.legend()\n",
    "plt.show()"
   ]
  },
  {
   "cell_type": "markdown",
   "id": "2f3583f7",
   "metadata": {},
   "source": [
    "# Using Ridge()"
   ]
  },
  {
   "cell_type": "code",
   "execution_count": 111,
   "id": "c72b9b82",
   "metadata": {},
   "outputs": [],
   "source": [
    "from sklearn.linear_model import Ridge"
   ]
  },
  {
   "cell_type": "code",
   "execution_count": 129,
   "id": "c2f5d6d5",
   "metadata": {},
   "outputs": [],
   "source": [
    "ridge_model = Ridge(alpha=1.0)\n",
    "ridge_model.fit(x_train2, y_train2)\n",
    "y_predict2 = ridge_model.predict(x_test)"
   ]
  },
  {
   "cell_type": "code",
   "execution_count": 130,
   "id": "0b51cdbf",
   "metadata": {},
   "outputs": [
    {
     "data": {
      "image/png": "[encoded data removed]",
      "text/plain": [
       "<Figure size 432x288 with 1 Axes>"
      ]
     },
     "metadata": {
      "needs_background": "light"
     },
     "output_type": "display_data"
    }
   ],
   "source": [
    "\n",
    "# Plotting actual vs predicted values for Ridge regression\n",
    "plt.scatter(test_indices, y_test, color=\"orange\", label=\"Test Actual values\", marker='x')\n",
    "plt.plot(test_indices, y_predict2, c='purple', label='Ridge Predicted values')\n",
    "\n",
    "# Final plot settings\n",
    "plt.title('Ridge Regression: Grades Predictions')\n",
    "plt.xlabel('Student Index')\n",
    "plt.ylabel('Grade')\n",
    "plt.legend()\n",
    "plt.show()"
   ]
  },
  {
   "cell_type": "code",
   "execution_count": null,
   "id": "993531ed",
   "metadata": {},
   "outputs": [],
   "source": []
  }
 ],
 "metadata": {
  "kernelspec": {
   "display_name": "Python 3",
   "language": "python",
   "name": "python3"
  },
  "language_info": {
   "codemirror_mode": {
    "name": "ipython",
    "version": 3
   },
   "file_extension": ".py",
   "mimetype": "text/x-python",
   "name": "python",
   "nbconvert_exporter": "python",
   "pygments_lexer": "ipython3",
   "version": "3.8.8"
  }
 },
 "nbformat": 4,
 "nbformat_minor": 5
}
