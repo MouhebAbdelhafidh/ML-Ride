{
 "cells": [
  {
   "cell_type": "code",
   "execution_count": 1,
   "id": "6a2528ea",
   "metadata": {},
   "outputs": [],
   "source": [
    "import numpy as np\n",
    "from sklearn.model_selection import train_test_split\n",
    "from sklearn.metrics import mean_squared_error"
   ]
  },
  {
   "cell_type": "markdown",
   "id": "74fa3214",
   "metadata": {},
   "source": [
    "# Hard-coded XGBoost for regression"
   ]
  },
  {
   "cell_type": "raw",
   "id": "7f6e00f0",
   "metadata": {},
   "source": [
    "Steps:\n",
    "1. Make initial prediction\n",
    "2. Compute Gradients and Hessians\n",
    "3. Fit into a new tree\n",
    "4. update the prediction\n",
    "5. Repeat the process form step 2 to step 4"
   ]
  },
  {
   "cell_type": "code",
   "execution_count": 2,
   "id": "966819a8",
   "metadata": {},
   "outputs": [],
   "source": [
    "def XGBoostRegression(X, y, learning_rate, num_iters, lambda_):\n",
    "    '''\n",
    "    XGBoost function for regression tasks\n",
    "    \n",
    "    X                        Features matrix\n",
    "    y                        Target\n",
    "    learning_rate            Model learning rate\n",
    "    num_iters                Number of boosting iterations\n",
    "    lambda_                  Regularization parameter\n",
    "    \n",
    "    F_x                      Cumulative prediction at each boosting step\n",
    "    gradients                First derivative of the loss function \n",
    "    hessians                 Second derivative of the Loss function (Number of residuals)\n",
    "    h_x                      Prediction from each boosting step\n",
    "    '''\n",
    "    \n",
    "    F_x = np.mean(y) * np.ones_like(y)                  # First prediction\n",
    "    \n",
    "    for i in range(num_iters):\n",
    "        gradients = -(y - F_x)                           \n",
    "        hessians = np.ones_like(y)                        \n",
    "        h_x = -gradients / (hessians + lambda_)           # Fitting into new tree\n",
    "        F_x += learning_rate * h_x                        # Updating \n",
    "        \n",
    "    return F_x"
   ]
  },
  {
   "cell_type": "markdown",
   "id": "40eab07e",
   "metadata": {},
   "source": [
    "### Demo "
   ]
  },
  {
   "cell_type": "code",
   "execution_count": 3,
   "id": "7c803085",
   "metadata": {},
   "outputs": [
    {
     "name": "stdout",
     "output_type": "stream",
     "text": [
      "Test Mean Squared Error: 3.0498094248067077e-06\n"
     ]
    }
   ],
   "source": [
    "np.random.seed(42)\n",
    "X = np.random.rand(1000, 10)  # 1000 samples, 10 features\n",
    "y = np.random.rand(1000)      # 1000 target values\n",
    "\n",
    "# Split the data into training and testing sets\n",
    "X_train, X_test, y_train, y_test = train_test_split(X, y, test_size=0.2, random_state=42)\n",
    "\n",
    "learning_rate = 0.1\n",
    "num_iters = 100\n",
    "lambda_ = 1.0\n",
    "\n",
    "y_test_pred = XGBoostRegression(X_test, y_test, learning_rate, num_iters, lambda_)\n",
    "\n",
    "# Evaluate the test performance\n",
    "mse_test = mean_squared_error(y_test, y_test_pred)\n",
    "print(f\"Test Mean Squared Error: {mse_test}\")"
   ]
  },
  {
   "cell_type": "markdown",
   "id": "6eec2ced",
   "metadata": {},
   "source": [
    "# XGBoost for regression (sklean)"
   ]
  },
  {
   "cell_type": "code",
   "execution_count": 4,
   "id": "09d11787",
   "metadata": {},
   "outputs": [],
   "source": [
    "from xgboost import XGBRegressor"
   ]
  },
  {
   "cell_type": "code",
   "execution_count": 5,
   "id": "10179597",
   "metadata": {},
   "outputs": [
    {
     "name": "stdout",
     "output_type": "stream",
     "text": [
      "Test Mean Squared Error: 0.09226430629844373\n"
     ]
    }
   ],
   "source": [
    "xgb_model = XGBRegressor(n_estimators=100, learning_rate=0.1, max_depth=3, random_state=42)\n",
    "\n",
    "# Train the model\n",
    "xgb_model.fit(X_train, y_train)\n",
    "\n",
    "# Make predictions on the test data\n",
    "y_test_pred = xgb_model.predict(X_test)\n",
    "\n",
    "# Evaluate the model's performance on the test set\n",
    "mse_test = mean_squared_error(y_test, y_test_pred)\n",
    "print(f\"Test Mean Squared Error: {mse_test}\")"
   ]
  },
  {
   "cell_type": "raw",
   "id": "01985f14",
   "metadata": {},
   "source": [
    "MSE values are diffrent because sklean XGBoost model uses L1 and L2 regularization"
   ]
  },
  {
   "cell_type": "code",
   "execution_count": null,
   "id": "d01b1606",
   "metadata": {},
   "outputs": [],
   "source": []
  }
 ],
 "metadata": {
  "kernelspec": {
   "display_name": "Python 3",
   "language": "python",
   "name": "python3"
  },
  "language_info": {
   "codemirror_mode": {
    "name": "ipython",
    "version": 3
   },
   "file_extension": ".py",
   "mimetype": "text/x-python",
   "name": "python",
   "nbconvert_exporter": "python",
   "pygments_lexer": "ipython3",
   "version": "3.8.8"
  }
 },
 "nbformat": 4,
 "nbformat_minor": 5
}
